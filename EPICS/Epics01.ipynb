{
  "nbformat": 4,
  "nbformat_minor": 0,
  "metadata": {
    "colab": {
      "provenance": []
    },
    "kernelspec": {
      "name": "python3",
      "display_name": "Python 3"
    },
    "language_info": {
      "name": "python"
    },
    "accelerator": "GPU",
    "gpuClass": "standard"
  },
  "cells": [
    {
      "cell_type": "code",
      "execution_count": 1,
      "metadata": {
        "id": "CZneAqLuBFqg",
        "colab": {
          "base_uri": "https://localhost:8080/"
        },
        "outputId": "1f971c4a-742f-45b6-ba08-6ade0cc55257"
      },
      "outputs": [
        {
          "output_type": "stream",
          "name": "stdout",
          "text": [
            "Mounted at /content/drive\n"
          ]
        }
      ],
      "source": [
        "from google.colab import drive\n",
        "drive.mount('/content/drive')"
      ]
    },
    {
      "cell_type": "markdown",
      "source": [
        "# **Txt to CSV**"
      ],
      "metadata": {
        "id": "ALqUWehlRCIt"
      }
    },
    {
      "cell_type": "code",
      "source": [
        "import csv\n",
        "import os\n",
        "import glob\n",
        "\n",
        "dirNeg = './drive/MyDrive/NITAP/tokens/neg'\n",
        "dirPos = './drive/MyDrive/NITAP/tokens/pos'\n",
        "\n",
        "encoding = 'latin-1'\n",
        "\n",
        "fieldNames = ['review','label','']\n",
        "\n",
        "with open('movieReview','a',newline='',encoding='utf-8') as f:\n",
        "    writer = csv.DictWriter(f,fieldnames=fieldNames)\n",
        "    writer.writeheader()\n",
        "\n",
        "    for fN in glob.glob(os.path.join(dirNeg, '*.txt')):\n",
        "        with open(fN, 'r',encoding=encoding) as file:\n",
        "            text = file.read()\n",
        "        writer.writerow({'review': text, 'label': 'negative'})\n",
        "\n",
        "    for fN in glob.glob(os.path.join(dirPos, '*.txt')):\n",
        "        with open(fN, 'r',encoding=encoding) as file:\n",
        "            text = file.read()\n",
        "        writer.writerow({'review': text, 'label': 'positive'})"
      ],
      "metadata": {
        "id": "eHAqZksiRFot"
      },
      "execution_count": null,
      "outputs": []
    },
    {
      "cell_type": "code",
      "source": [
        "import pandas as pd\n",
        "import numpy as np\n",
        "df = pd.read_csv('movieReviews')\n",
        "df['split'] = np.random.choice(['train', 'test'], size=len(df), p=[0.8, 0.2])\n",
        "X_train = df[df['split'] == 'train']['review'].values\n",
        "X_test = df[df['split'] == 'test']['review'].values\n",
        "y_train = df[df['split'] == 'train']['label'].values\n",
        "y_test = df[df['split'] == 'test']['label'].values"
      ],
      "metadata": {
        "id": "84Cxq-ENOyZb"
      },
      "execution_count": 32,
      "outputs": []
    },
    {
      "cell_type": "markdown",
      "source": [
        "# **Code Vectorization**"
      ],
      "metadata": {
        "id": "XfHMe2ikRcWF"
      }
    },
    {
      "cell_type": "code",
      "source": [
        "from sklearn.feature_extraction.text import CountVectorizer\n",
        "vectorizer = CountVectorizer()\n",
        "X_train_vectors = vectorizer.fit_transform(X_train)\n",
        "X_test_vectors = vectorizer.transform(X_test)"
      ],
      "metadata": {
        "id": "hCAsFQpIRbne"
      },
      "execution_count": 33,
      "outputs": []
    },
    {
      "cell_type": "markdown",
      "source": [
        "# **SVM**"
      ],
      "metadata": {
        "id": "gn5UnX9fM8Rb"
      }
    },
    {
      "cell_type": "code",
      "source": [
        "from sklearn.svm import LinearSVC\n",
        "svm = LinearSVC()\n",
        "svm.fit(X_train_vectors, y_train)\n",
        "accuracy = svm.score(X_test_vectors, y_test)\n",
        "print(\"Accuracy: \",accuracy*100)"
      ],
      "metadata": {
        "colab": {
          "base_uri": "https://localhost:8080/"
        },
        "id": "qW-A7Wy1M7xO",
        "outputId": "b0df5384-1acd-43ca-d040-272483bf55ae"
      },
      "execution_count": 34,
      "outputs": [
        {
          "output_type": "stream",
          "name": "stdout",
          "text": [
            "Accuracy:  78.57142857142857\n"
          ]
        },
        {
          "output_type": "stream",
          "name": "stderr",
          "text": [
            "/usr/local/lib/python3.8/dist-packages/sklearn/svm/_base.py:1206: ConvergenceWarning: Liblinear failed to converge, increase the number of iterations.\n",
            "  warnings.warn(\n"
          ]
        }
      ]
    },
    {
      "cell_type": "markdown",
      "source": [
        "# **Logistic Regression**"
      ],
      "metadata": {
        "id": "N-OVsM9cQvux"
      }
    },
    {
      "cell_type": "code",
      "source": [
        "from sklearn.linear_model import LogisticRegression\n",
        "lr = LogisticRegression()\n",
        "lr.fit(X_train_vectors, y_train)\n",
        "accuracy = lr.score(X_test_vectors, y_test)\n",
        "print(\"Accuracy: \",accuracy*100)"
      ],
      "metadata": {
        "colab": {
          "base_uri": "https://localhost:8080/"
        },
        "id": "d9l5IDbgQ0qt",
        "outputId": "1fe8dc62-f01d-4f7a-ebf4-2c039bdbe7c5"
      },
      "execution_count": 35,
      "outputs": [
        {
          "output_type": "stream",
          "name": "stdout",
          "text": [
            "Accuracy:  81.78571428571428\n"
          ]
        },
        {
          "output_type": "stream",
          "name": "stderr",
          "text": [
            "/usr/local/lib/python3.8/dist-packages/sklearn/linear_model/_logistic.py:814: ConvergenceWarning: lbfgs failed to converge (status=1):\n",
            "STOP: TOTAL NO. of ITERATIONS REACHED LIMIT.\n",
            "\n",
            "Increase the number of iterations (max_iter) or scale the data as shown in:\n",
            "    https://scikit-learn.org/stable/modules/preprocessing.html\n",
            "Please also refer to the documentation for alternative solver options:\n",
            "    https://scikit-learn.org/stable/modules/linear_model.html#logistic-regression\n",
            "  n_iter_i = _check_optimize_result(\n"
          ]
        }
      ]
    },
    {
      "cell_type": "markdown",
      "source": [
        "# **Naive Bayes**"
      ],
      "metadata": {
        "id": "DdZsMdSeR3Dh"
      }
    },
    {
      "cell_type": "code",
      "source": [
        "from sklearn.naive_bayes import MultinomialNB\n",
        "nb = MultinomialNB()\n",
        "nb.fit(X_train_vectors, y_train)\n",
        "accuracy = nb.score(X_test_vectors, y_test)\n",
        "print(\"Accuracy: \",accuracy*100)"
      ],
      "metadata": {
        "colab": {
          "base_uri": "https://localhost:8080/"
        },
        "id": "WaS-DWK4R6co",
        "outputId": "c3d3faf4-cd63-4dce-e57c-edaab9e95653"
      },
      "execution_count": 36,
      "outputs": [
        {
          "output_type": "stream",
          "name": "stdout",
          "text": [
            "Accuracy:  78.21428571428571\n"
          ]
        }
      ]
    }
  ]
}